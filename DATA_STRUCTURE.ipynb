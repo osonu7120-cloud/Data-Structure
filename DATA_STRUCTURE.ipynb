{
  "nbformat": 4,
  "nbformat_minor": 0,
  "metadata": {
    "colab": {
      "provenance": []
    },
    "kernelspec": {
      "name": "python3",
      "display_name": "Python 3"
    },
    "language_info": {
      "name": "python"
    }
  },
  "cells": [
    {
      "cell_type": "markdown",
      "source": [
        "#Data Types and Structures Questions and answer"
      ],
      "metadata": {
        "id": "B_QBjNCERIp_"
      }
    },
    {
      "cell_type": "markdown",
      "source": [
        "1.  What are data structures, and why are they important?\n",
        "-   Data structures are ways to store data important for easy handling.\n",
        "\n",
        "2.  Explain the difference between mutable and immutable data types with    examples\n",
        "-  Mutable can change (list), immutable cannot (tuple, string).\n",
        "\n",
        "3.  What are the main differences between lists and tuples in Python?\n",
        "-  List is editable tuple is fixed\n",
        "\n",
        "4.  Describe how dictionaries store data?\n",
        "-  Dict stores data in key-value pairs\n",
        "\n",
        "5.  Why might you use a set instead of a list in Python?\n",
        "-  Set removes duplicates and is faster\n",
        "\n",
        "6. What is a string in Python, and how is it different from a list?\n",
        "-  String is characters only list can have many types.\n",
        "\n",
        "7. How do tuples ensure data integrity in Python?\n",
        "-  Tuple is immutable so data can't change.\n",
        "\n",
        "8. What is a hash table, and how does it relate to dictionaries in Python?\n",
        "-  Hash table is mapping dict works on it.\n",
        "\n",
        "9. Can lists contain different data types in Python?\n",
        "-  Yes list can have int, str, float etc\n",
        "\n",
        "10. Explain why strings are immutable in Python.\n",
        "-  They can't change once created.\n",
        "\n",
        "11. What advantages do dictionaries offer over lists for certain tasks?\n",
        "-  Dictionaries give faster search and direct access\n",
        "\n",
        "12. Describe a scenario where using a tuple would be preferable over a list.\n",
        "-  When data is fixed and should not change.\n",
        "\n",
        "13. How do sets handle duplicate values in Python?\n",
        "-  They automatically remove duplicates.\n",
        "\n",
        "14. How does the “in” keyword work differently for lists and dictionaries?\n",
        "-  In list → checks value, in dict → checks key.\n",
        "\n",
        "15. Can you modify the elements of a tuple? Explain why or why not.\n",
        "-  No, tuples are immutable.\n",
        "\n",
        "16. What is a nested dictionary, and give an example of its use case?\n",
        "-  Dict inside dict  student → subjects → marks\n",
        "\n",
        "17. Describe the time complexity of accessing elements in a dictionary.\n",
        "-  It is O(1), very fast.\n",
        "\n",
        "18. In what situations are lists preferred over dictionaries?\n",
        "-  When order matters more.\n",
        "\n",
        "19. Why are dictionaries considered unordered, and how does that affect data retrieval?\n",
        "-  They don't follow index only keys\n",
        "\n",
        "20. Explain the difference between a list and a dictionary in terms of data retrieval.\n",
        "-  List uses index dict use key.\n"
      ],
      "metadata": {
        "id": "WW989dKdi4QU"
      }
    },
    {
      "cell_type": "markdown",
      "source": [
        "#Practical Questions"
      ],
      "metadata": {
        "id": "882H--UPo9pp"
      }
    },
    {
      "cell_type": "markdown",
      "source": [
        "1.  Write a code to create a string with your name and print it."
      ],
      "metadata": {
        "id": "oRUjx0a-qGsn"
      }
    },
    {
      "cell_type": "code",
      "source": [
        "name = \"Arpit\"\n",
        "print(name)"
      ],
      "metadata": {
        "colab": {
          "base_uri": "https://localhost:8080/"
        },
        "id": "z87ZJruVqNt-",
        "outputId": "c941002e-8de7-4e05-9987-77511b9306c7"
      },
      "execution_count": 1,
      "outputs": [
        {
          "output_type": "stream",
          "name": "stdout",
          "text": [
            "Arpit\n"
          ]
        }
      ]
    },
    {
      "cell_type": "markdown",
      "source": [
        "2. Write a code to find the length of the string \"Hello World\""
      ],
      "metadata": {
        "id": "YfDyKm_oqaWA"
      }
    },
    {
      "cell_type": "code",
      "source": [
        "s = \"Hello World\"\n",
        "print(len(s))"
      ],
      "metadata": {
        "colab": {
          "base_uri": "https://localhost:8080/"
        },
        "id": "jWCPLQPjqnwD",
        "outputId": "f81b9815-ef89-4d15-a49b-4b67dffdc573"
      },
      "execution_count": 2,
      "outputs": [
        {
          "output_type": "stream",
          "name": "stdout",
          "text": [
            "11\n"
          ]
        }
      ]
    },
    {
      "cell_type": "markdown",
      "source": [
        "3. Write a code to slice the first 3 characters from the string \"Python Programming\""
      ],
      "metadata": {
        "id": "Tww0s7ZjrGbu"
      }
    },
    {
      "cell_type": "code",
      "source": [
        "s = \"Python Programming\"\n",
        "print(s[:3])"
      ],
      "metadata": {
        "colab": {
          "base_uri": "https://localhost:8080/"
        },
        "id": "vnoLkt1crN6E",
        "outputId": "c342e4ac-cd33-40c8-c4be-d0955255864d"
      },
      "execution_count": 3,
      "outputs": [
        {
          "output_type": "stream",
          "name": "stdout",
          "text": [
            "Pyt\n"
          ]
        }
      ]
    },
    {
      "cell_type": "markdown",
      "source": [
        "4. Write a code to convert the string \"hello\" to uppercase."
      ],
      "metadata": {
        "id": "lYjnUWVhrd5-"
      }
    },
    {
      "cell_type": "code",
      "source": [
        "s = \"hello\"\n",
        "print(s.upper())"
      ],
      "metadata": {
        "colab": {
          "base_uri": "https://localhost:8080/"
        },
        "id": "cIq0QWH_riaw",
        "outputId": "c901ec6c-f783-4720-9f8d-cee2460ac344"
      },
      "execution_count": 4,
      "outputs": [
        {
          "output_type": "stream",
          "name": "stdout",
          "text": [
            "HELLO\n"
          ]
        }
      ]
    },
    {
      "cell_type": "markdown",
      "source": [
        "5. Write a code to replace the word \"apple\" with \"orange\" in the string \"I like apple\""
      ],
      "metadata": {
        "id": "mnqhHTodr4dC"
      }
    },
    {
      "cell_type": "code",
      "source": [
        "s = \"I like apple\"\n",
        "s2 = s.replace(\"apple\", \"orange\")\n",
        "print(s2)"
      ],
      "metadata": {
        "colab": {
          "base_uri": "https://localhost:8080/"
        },
        "id": "zqONqOUUr8yQ",
        "outputId": "b4f9cbc9-73f1-4075-a5b4-df00e83ef91f"
      },
      "execution_count": 5,
      "outputs": [
        {
          "output_type": "stream",
          "name": "stdout",
          "text": [
            "I like orange\n"
          ]
        }
      ]
    },
    {
      "cell_type": "markdown",
      "source": [
        "6. Write a code to create a list with numbers 1 to 5 and print it"
      ],
      "metadata": {
        "id": "yOQuzBxvsKlr"
      }
    },
    {
      "cell_type": "code",
      "source": [
        "lst = [1, 2, 3, 4, 5]\n",
        "print(lst)"
      ],
      "metadata": {
        "colab": {
          "base_uri": "https://localhost:8080/"
        },
        "id": "2rVcuBqTsW0L",
        "outputId": "46731dcd-d349-46d5-a0bf-ea734e4ccf0b"
      },
      "execution_count": 6,
      "outputs": [
        {
          "output_type": "stream",
          "name": "stdout",
          "text": [
            "[1, 2, 3, 4, 5]\n"
          ]
        }
      ]
    },
    {
      "cell_type": "markdown",
      "source": [
        "7. Write a code to append the number 10 to the list [1, 2, 3, 4]"
      ],
      "metadata": {
        "id": "jiPxWudLsl91"
      }
    },
    {
      "cell_type": "code",
      "source": [
        "lst = [1, 2, 3, 4]\n",
        "lst.append(10)\n",
        "print(lst)"
      ],
      "metadata": {
        "colab": {
          "base_uri": "https://localhost:8080/"
        },
        "id": "oYWdvNkusrk9",
        "outputId": "1dcdb5ef-9866-456c-97fc-c26bebf09fe9"
      },
      "execution_count": 7,
      "outputs": [
        {
          "output_type": "stream",
          "name": "stdout",
          "text": [
            "[1, 2, 3, 4, 10]\n"
          ]
        }
      ]
    },
    {
      "cell_type": "markdown",
      "source": [
        "8. Write a code to remove the number 3 from the list [1, 2, 3, 4, 5]"
      ],
      "metadata": {
        "id": "NMl4-ltHtAH4"
      }
    },
    {
      "cell_type": "code",
      "source": [
        "lst = [1, 2, 3, 4, 5]\n",
        "lst.remove(3)\n",
        "print(lst)"
      ],
      "metadata": {
        "colab": {
          "base_uri": "https://localhost:8080/"
        },
        "id": "CNwH2A5ytENL",
        "outputId": "5268a029-ae1c-4598-8d4e-7b6181b843b2"
      },
      "execution_count": 9,
      "outputs": [
        {
          "output_type": "stream",
          "name": "stdout",
          "text": [
            "[1, 2, 4, 5]\n"
          ]
        }
      ]
    },
    {
      "cell_type": "markdown",
      "source": [
        "9. Write a code to access the second element in the list ['a', 'b', 'c', 'd']"
      ],
      "metadata": {
        "id": "HoPdSy_quOx1"
      }
    },
    {
      "cell_type": "code",
      "source": [
        "lst = ['a', 'b', 'c', 'd']\n",
        "print(lst[1])   # second element"
      ],
      "metadata": {
        "colab": {
          "base_uri": "https://localhost:8080/"
        },
        "id": "JZWH6ahmuTE-",
        "outputId": "89503d30-22d1-4b5e-ad94-d79e5d37416d"
      },
      "execution_count": 10,
      "outputs": [
        {
          "output_type": "stream",
          "name": "stdout",
          "text": [
            "b\n"
          ]
        }
      ]
    },
    {
      "cell_type": "markdown",
      "source": [
        "10. Write a code to reverse the list [10, 20, 30, 40, 50]."
      ],
      "metadata": {
        "id": "G8oP3gzHur1P"
      }
    },
    {
      "cell_type": "code",
      "source": [
        "lst = [10, 20, 30, 40, 50]\n",
        "print(lst[::-1])   # quick way\n",
        "# or:\n",
        "# lst.reverse()\n",
        "# print(lst)"
      ],
      "metadata": {
        "colab": {
          "base_uri": "https://localhost:8080/"
        },
        "id": "2PRDXFxpuwow",
        "outputId": "81771a55-4543-4606-d480-549ca587ca36"
      },
      "execution_count": 11,
      "outputs": [
        {
          "output_type": "stream",
          "name": "stdout",
          "text": [
            "[50, 40, 30, 20, 10]\n"
          ]
        }
      ]
    },
    {
      "cell_type": "markdown",
      "source": [
        "11. Write a code to create a tuple with the elements 100, 200, 300 and print it."
      ],
      "metadata": {
        "id": "rgmTIav3xEQt"
      }
    },
    {
      "cell_type": "code",
      "source": [
        "t = (100, 200, 300)\n",
        "print(t)"
      ],
      "metadata": {
        "colab": {
          "base_uri": "https://localhost:8080/"
        },
        "id": "RrMr40CYxH-F",
        "outputId": "9ef4b1de-d4a8-4fe3-c7dd-f8566eecd691"
      },
      "execution_count": 12,
      "outputs": [
        {
          "output_type": "stream",
          "name": "stdout",
          "text": [
            "(100, 200, 300)\n"
          ]
        }
      ]
    },
    {
      "cell_type": "markdown",
      "source": [
        " 12. Write a code to access the second-to-last element of the tuple ('red', 'green', 'blue', 'yellow')."
      ],
      "metadata": {
        "id": "_l-soMwwxi9Z"
      }
    },
    {
      "cell_type": "code",
      "source": [
        "colors = ('red', 'green', 'blue', 'yellow')\n",
        "print(colors[-2])"
      ],
      "metadata": {
        "colab": {
          "base_uri": "https://localhost:8080/"
        },
        "id": "EI02YKmixmLi",
        "outputId": "45b256b4-1934-457f-c66d-227e497caa58"
      },
      "execution_count": 13,
      "outputs": [
        {
          "output_type": "stream",
          "name": "stdout",
          "text": [
            "blue\n"
          ]
        }
      ]
    },
    {
      "cell_type": "markdown",
      "source": [
        " 13. Write a code to find the minimum number in the tuple (10, 20, 5, 15)."
      ],
      "metadata": {
        "id": "AA1VXagPx35b"
      }
    },
    {
      "cell_type": "code",
      "source": [
        "nums = (10, 20, 5, 15)\n",
        "print(min(nums))"
      ],
      "metadata": {
        "colab": {
          "base_uri": "https://localhost:8080/"
        },
        "id": "r2Ltl_qix6XK",
        "outputId": "3dc7174f-3527-4f1c-ebe1-127d3d24b2e3"
      },
      "execution_count": 14,
      "outputs": [
        {
          "output_type": "stream",
          "name": "stdout",
          "text": [
            "5\n"
          ]
        }
      ]
    },
    {
      "cell_type": "markdown",
      "source": [
        "14. Write a code to find the index of the element \"cat\" in the tuple ('dog', 'cat', 'rabbit')."
      ],
      "metadata": {
        "id": "8IaFWtx-yJpT"
      }
    },
    {
      "cell_type": "code",
      "source": [
        "animals = ('dog', 'cat', 'rabbit')\n",
        "print(animals.index('cat'))"
      ],
      "metadata": {
        "colab": {
          "base_uri": "https://localhost:8080/"
        },
        "id": "pV5WHJg5ySos",
        "outputId": "774d47a9-96c2-4493-f066-517370a4cbaf"
      },
      "execution_count": 15,
      "outputs": [
        {
          "output_type": "stream",
          "name": "stdout",
          "text": [
            "1\n"
          ]
        }
      ]
    },
    {
      "cell_type": "markdown",
      "source": [
        " 15. Write a code to create a tuple containing three different fruits and check if \"kiwi\" is in it"
      ],
      "metadata": {
        "id": "sRQ1r9dkya7V"
      }
    },
    {
      "cell_type": "code",
      "source": [
        "fruits = ('apple', 'banana', 'mango')\n",
        "print('kiwi' in fruits)"
      ],
      "metadata": {
        "colab": {
          "base_uri": "https://localhost:8080/"
        },
        "id": "1LpYEmCLyivX",
        "outputId": "64832a08-4870-4ada-bed0-db86cdb11070"
      },
      "execution_count": 16,
      "outputs": [
        {
          "output_type": "stream",
          "name": "stdout",
          "text": [
            "False\n"
          ]
        }
      ]
    },
    {
      "cell_type": "markdown",
      "source": [
        "16. Write a code to create a set with the elements 'a', 'b', 'c' and print it."
      ],
      "metadata": {
        "id": "QXSjxDkhyvrg"
      }
    },
    {
      "cell_type": "code",
      "source": [
        "s = {'a', 'b', 'c'}\n",
        "print(s)"
      ],
      "metadata": {
        "colab": {
          "base_uri": "https://localhost:8080/"
        },
        "id": "2oYeb1CXy1XA",
        "outputId": "50f21bfd-4176-4058-c502-cf148f066bbf"
      },
      "execution_count": 17,
      "outputs": [
        {
          "output_type": "stream",
          "name": "stdout",
          "text": [
            "{'b', 'a', 'c'}\n"
          ]
        }
      ]
    },
    {
      "cell_type": "markdown",
      "source": [
        "17. Write a code to clear all elements from the set {1, 2, 3, 4, 5}."
      ],
      "metadata": {
        "id": "XTRZDJ3py_Ex"
      }
    },
    {
      "cell_type": "code",
      "source": [
        "s2 = {1, 2, 3, 4, 5}\n",
        "s2.clear()\n",
        "print(s2)"
      ],
      "metadata": {
        "colab": {
          "base_uri": "https://localhost:8080/"
        },
        "id": "UGmwKDbNzBGJ",
        "outputId": "828544c6-710e-440f-9273-09f689f82e42"
      },
      "execution_count": 18,
      "outputs": [
        {
          "output_type": "stream",
          "name": "stdout",
          "text": [
            "set()\n"
          ]
        }
      ]
    },
    {
      "cell_type": "markdown",
      "source": [
        "18. Write a code to remove the element 4 from the set {1, 2, 3, 4}."
      ],
      "metadata": {
        "id": "F4ruVDO6zLYL"
      }
    },
    {
      "cell_type": "code",
      "source": [
        "s3 = {1, 2, 3, 4}\n",
        "s3.remove(4)\n",
        "print(s3)"
      ],
      "metadata": {
        "colab": {
          "base_uri": "https://localhost:8080/"
        },
        "id": "KYbFW9ENzMqS",
        "outputId": "d184185d-396c-449a-ecbd-7d0945378a33"
      },
      "execution_count": 19,
      "outputs": [
        {
          "output_type": "stream",
          "name": "stdout",
          "text": [
            "{1, 2, 3}\n"
          ]
        }
      ]
    },
    {
      "cell_type": "markdown",
      "source": [
        "19. Write a code to find the union of two sets {1, 2, 3} and {3, 4, 5}."
      ],
      "metadata": {
        "id": "boJXkz6vzgxE"
      }
    },
    {
      "cell_type": "code",
      "source": [
        "a = {1, 2, 3}\n",
        "b = {3, 4, 5}\n",
        "print(a | b)"
      ],
      "metadata": {
        "colab": {
          "base_uri": "https://localhost:8080/"
        },
        "id": "TPTLsbYUzijc",
        "outputId": "6cc4b6b5-aaf1-4874-92a3-d16a4f9a0066"
      },
      "execution_count": 20,
      "outputs": [
        {
          "output_type": "stream",
          "name": "stdout",
          "text": [
            "{1, 2, 3, 4, 5}\n"
          ]
        }
      ]
    },
    {
      "cell_type": "markdown",
      "source": [
        "20. Write a code to find the intersection of two sets {1, 2, 3} and {2, 3, 4}."
      ],
      "metadata": {
        "id": "k7J5fxe3zr_9"
      }
    },
    {
      "cell_type": "code",
      "source": [
        "x = {1, 2, 3}\n",
        "y = {2, 3, 4}\n",
        "print(x & y)"
      ],
      "metadata": {
        "colab": {
          "base_uri": "https://localhost:8080/"
        },
        "id": "giU6kHdMz0DV",
        "outputId": "5d625927-a827-4c73-9ea5-087c98599e0e"
      },
      "execution_count": 21,
      "outputs": [
        {
          "output_type": "stream",
          "name": "stdout",
          "text": [
            "{2, 3}\n"
          ]
        }
      ]
    },
    {
      "cell_type": "markdown",
      "source": [
        "21. Write a code to create a dictionary with the keys \"name\", \"age\", and \"city\", and print it."
      ],
      "metadata": {
        "id": "-aPeEbchz_No"
      }
    },
    {
      "cell_type": "code",
      "source": [
        "person = {'name': 'John', 'age': 25, 'city': 'Delhi'}\n",
        "print(person)"
      ],
      "metadata": {
        "colab": {
          "base_uri": "https://localhost:8080/"
        },
        "id": "LCj4zYo80AXv",
        "outputId": "cfc231f4-0e84-4a4c-f43e-53247c2f6189"
      },
      "execution_count": 22,
      "outputs": [
        {
          "output_type": "stream",
          "name": "stdout",
          "text": [
            "{'name': 'John', 'age': 25, 'city': 'Delhi'}\n"
          ]
        }
      ]
    },
    {
      "cell_type": "markdown",
      "source": [
        "22. Write a code to add a new key-value pair \"country\": \"USA\" to the dictionary {'name': 'John', 'age': 25}."
      ],
      "metadata": {
        "id": "DMOaBJbs0Q7x"
      }
    },
    {
      "cell_type": "code",
      "source": [
        "d = {'name': 'John', 'age': 25}\n",
        "d['country'] = 'USA'\n",
        "print(d)"
      ],
      "metadata": {
        "colab": {
          "base_uri": "https://localhost:8080/"
        },
        "id": "ut3uB0jc0SXJ",
        "outputId": "dff04524-73a1-4faf-b9e9-4327da7fe101"
      },
      "execution_count": 23,
      "outputs": [
        {
          "output_type": "stream",
          "name": "stdout",
          "text": [
            "{'name': 'John', 'age': 25, 'country': 'USA'}\n"
          ]
        }
      ]
    },
    {
      "cell_type": "markdown",
      "source": [
        "23. Write a code to access the value associated with the key \"name\" in the dictionary {'name': 'Alice', 'age': 30}."
      ],
      "metadata": {
        "id": "Cumg46Pt0ecS"
      }
    },
    {
      "cell_type": "code",
      "source": [
        "d2 = {'name': 'Alice', 'age': 30}\n",
        "print(d2['name'])"
      ],
      "metadata": {
        "colab": {
          "base_uri": "https://localhost:8080/"
        },
        "id": "3JeGtrXi0i0y",
        "outputId": "53a45f7a-df9e-4edd-ef2a-e84abebc70df"
      },
      "execution_count": 24,
      "outputs": [
        {
          "output_type": "stream",
          "name": "stdout",
          "text": [
            "Alice\n"
          ]
        }
      ]
    },
    {
      "cell_type": "markdown",
      "source": [
        "24. Write a code to remove the key \"age\" from the dictionary {'name': 'Bob', 'age': 22, 'city': 'New York'}."
      ],
      "metadata": {
        "id": "lvGUnFqV0w0d"
      }
    },
    {
      "cell_type": "code",
      "source": [
        "d3 = {'name': 'Bob', 'age': 22, 'city': 'New York'}\n",
        "d3.pop('age')\n",
        "print(d3)"
      ],
      "metadata": {
        "colab": {
          "base_uri": "https://localhost:8080/"
        },
        "id": "gWtZRZj50yqc",
        "outputId": "b89a58eb-8bb9-4737-b5b9-395c000502a0"
      },
      "execution_count": 25,
      "outputs": [
        {
          "output_type": "stream",
          "name": "stdout",
          "text": [
            "{'name': 'Bob', 'city': 'New York'}\n"
          ]
        }
      ]
    },
    {
      "cell_type": "markdown",
      "source": [
        "25. Write a code to check if the key \"city\" exists in the dictionary {'name': 'Alice', 'city': 'Paris'}."
      ],
      "metadata": {
        "id": "4Fho0JnO1G5X"
      }
    },
    {
      "cell_type": "code",
      "source": [
        "d4 = {'name': 'Alice', 'city': 'Paris'}\n",
        "print('city' in d4)"
      ],
      "metadata": {
        "colab": {
          "base_uri": "https://localhost:8080/"
        },
        "id": "2DTZuTB_1aOH",
        "outputId": "f46ad3a8-e25a-439c-a3cf-de0ee1c0aa54"
      },
      "execution_count": 26,
      "outputs": [
        {
          "output_type": "stream",
          "name": "stdout",
          "text": [
            "True\n"
          ]
        }
      ]
    },
    {
      "cell_type": "markdown",
      "source": [
        "26. Write a code to create a list, a tuple, and a dictionary, and print them all."
      ],
      "metadata": {
        "id": "WWqoDbXM1j8w"
      }
    },
    {
      "cell_type": "code",
      "source": [
        "lst = [1, 2, 3]\n",
        "tpl = (4, 5, 6)\n",
        "dic = {'a': 10, 'b': 20}\n",
        "print(lst, tpl, dic)"
      ],
      "metadata": {
        "colab": {
          "base_uri": "https://localhost:8080/"
        },
        "id": "JYcewLcX1nTI",
        "outputId": "cd5ca09d-cbbf-4250-afba-fc8ec1d1c493"
      },
      "execution_count": 27,
      "outputs": [
        {
          "output_type": "stream",
          "name": "stdout",
          "text": [
            "[1, 2, 3] (4, 5, 6) {'a': 10, 'b': 20}\n"
          ]
        }
      ]
    },
    {
      "cell_type": "markdown",
      "source": [
        "27. Write a code to create a list of 5 random numbers between 1 and 100, sort it in ascending order, and print the\n",
        "result.(replaced)"
      ],
      "metadata": {
        "id": "HYNq9D7V2OLG"
      }
    },
    {
      "cell_type": "code",
      "source": [
        "import random\n",
        "rand_list = random.sample(range(1, 101), 5)\n",
        "rand_list.sort()\n",
        "print(rand_list)"
      ],
      "metadata": {
        "colab": {
          "base_uri": "https://localhost:8080/"
        },
        "id": "aQII72SP2Q_0",
        "outputId": "6e9f1821-6d59-401a-e8c7-22a43d5d73a5"
      },
      "execution_count": 28,
      "outputs": [
        {
          "output_type": "stream",
          "name": "stdout",
          "text": [
            "[39, 80, 82, 94, 96]\n"
          ]
        }
      ]
    },
    {
      "cell_type": "markdown",
      "source": [
        "28. Write a code to create a list with strings and print the element at the third index."
      ],
      "metadata": {
        "id": "ItnWgAjJ2rj3"
      }
    },
    {
      "cell_type": "code",
      "source": [
        "words = ['one', 'two', 'three', 'four', 'five']\n",
        "print(words[3])"
      ],
      "metadata": {
        "colab": {
          "base_uri": "https://localhost:8080/"
        },
        "id": "NULgypud2tPH",
        "outputId": "29c8243a-2f22-4d4c-a48e-d7814a541f3c"
      },
      "execution_count": 29,
      "outputs": [
        {
          "output_type": "stream",
          "name": "stdout",
          "text": [
            "four\n"
          ]
        }
      ]
    },
    {
      "cell_type": "markdown",
      "source": [
        "29. Write a code to combine two dictionaries into one and print the result."
      ],
      "metadata": {
        "id": "jOkALs6q22Bg"
      }
    },
    {
      "cell_type": "code",
      "source": [
        "combined = d5.copy()\n",
        "combined.update(d6)\n",
        "print(combined)"
      ],
      "metadata": {
        "colab": {
          "base_uri": "https://localhost:8080/"
        },
        "id": "NOhhHc1H3skU",
        "outputId": "770e4cdb-ebc9-48c8-c456-dab04d908cff"
      },
      "execution_count": 33,
      "outputs": [
        {
          "output_type": "stream",
          "name": "stdout",
          "text": [
            "{'x': 1, 'y': 99, 'z': 3}\n"
          ]
        }
      ]
    },
    {
      "cell_type": "markdown",
      "source": [
        "30. Write a code to convert a list of strings into a set."
      ],
      "metadata": {
        "id": "TQV13fJo3OAz"
      }
    },
    {
      "cell_type": "code",
      "source": [
        "str_list = ['apple', 'banana', 'apple', 'mango']\n",
        "str_set = set(str_list)\n",
        "print(str_set)"
      ],
      "metadata": {
        "colab": {
          "base_uri": "https://localhost:8080/"
        },
        "id": "L09oQlla3SAC",
        "outputId": "df10f1ae-5e36-409f-c051-a2e133f9aa4b"
      },
      "execution_count": 31,
      "outputs": [
        {
          "output_type": "stream",
          "name": "stdout",
          "text": [
            "{'mango', 'banana', 'apple'}\n"
          ]
        }
      ]
    }
  ]
}